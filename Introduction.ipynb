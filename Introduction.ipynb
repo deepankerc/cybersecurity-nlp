{
 "cells": [
  {
   "cell_type": "markdown",
   "metadata": {},
   "source": [
    "# Introduction"
   ]
  },
  {
   "cell_type": "markdown",
   "metadata": {},
   "source": [
    "This notebook introduces how the text processing pipeline works and will get you up and running for development quickly. The hope is that these classes can be extended easily to accommodate new features. For example, a `Sentence.tags()` method that gets classification tags or a `Sentence.similar()` method that gets similar sentences from other documents."
   ]
  },
  {
   "cell_type": "markdown",
   "metadata": {},
   "source": [
    "## Building a Corpus"
   ]
  },
  {
   "cell_type": "markdown",
   "metadata": {},
   "source": [
    "The `Corpus` object is the main container of the documents. The first time you instantiate this class, you'll need to specify `from_file_only=False` to kick off the text extraction from the PDFs. After PDFs are converted to text, a text version is saved and loaded in subsequent instantiations. If you leave this argument out, the corpus will load only those docs that already have a text version already. This is useful because the text extraction times out and fails to generate a text version when trying to convert a few PDFs (unresolved problem), so after the first call, using `from_file_only=True` (the default) speeds up development."
   ]
  },
  {
   "cell_type": "code",
   "execution_count": 1,
   "metadata": {},
   "outputs": [
    {
     "name": "stderr",
     "output_type": "stream",
     "text": [
      "2018-07-29 11:53:36,232:INFO: Parsing key file\n",
      "2018-07-29 11:53:36,236:INFO: 97 documents found in key file\n",
      "2018-07-29 11:53:36,239:WARNING: Skipping pdf Afghanistan_2014_National%20Cybersecurity%20Strategy%20of%20Afghanistan%20%28November2014%29.pdf\n",
      "2018-07-29 11:53:36,240:INFO: Reading Kenya_2014_GOK-national-cybersecurity-strategy.pdf from text file\n",
      "2018-07-29 11:53:36,244:INFO: Reading Korea_RepublicOf_2011_KOR_NCSS_2011.pdf from text file\n",
      "2018-07-29 11:53:36,251:INFO: Reading Russia_2000.pdf from text file\n",
      "2018-07-29 11:53:36,258:INFO: Reading Australia_2009_AG%20Cyber%20Security%20Strategy%20-%20for%20website.pdf from text file\n",
      "2018-07-29 11:53:36,265:INFO: Reading Australia_2016_Cyber-Strategy.pdf from text file\n",
      "2018-07-29 11:53:36,269:INFO: Reading Latvia_2014_LVA_CSS_2014-2018.pdf from text file\n",
      "2018-07-29 11:53:36,272:INFO: Reading Rwanda%20NCSS%20NICI_III.pdf from text file\n",
      "2018-07-29 11:53:36,277:INFO: Reading Austria_2013_130415_strategie_cybersicherheit_en_web.pdf from text file\n",
      "2018-07-29 11:53:36,280:INFO: Reading Lithuania_2011_EIS%28KS%29PP_796_2011-06-29_EN_PATAIS.pdf from text file\n",
      "2018-07-29 11:53:36,285:INFO: Reading SaudiArabia_NISS_Draft_7_EN.pdf from text file\n",
      "2018-07-29 11:53:36,296:INFO: Reading LUXEMBOURG_NCSS.pdf from text file\n",
      "2018-07-29 11:53:36,300:INFO: Reading Bangladesh_10041_41196.pdf from text file\n",
      "2018-07-29 11:53:36,303:INFO: Reading Malawi_2013_Malawi_ICT_Policy.pdf from text file\n",
      "2018-07-29 11:53:36,306:INFO: Reading Singapore_2013_AnnexA.pdf from text file\n",
      "2018-07-29 11:53:36,308:INFO: Reading singapore_2016_cybersecuritystrategy.pdf from text file\n",
      "2018-07-29 11:53:36,311:INFO: Reading Malaysia_2006_NCSP-Policy2.pdf from text file\n",
      "2018-07-29 11:53:36,314:INFO: Reading Slovakia_2008_National_Strategy_for_ISEC.pdf from text file\n",
      "2018-07-29 11:53:36,317:INFO: Reading SLOVAKIA_NCSS%20-2.pdf from text file\n",
      "2018-07-29 11:53:36,320:INFO: Reading Malta_2014_Digital%20Malta%202014%20-%202020.pdf from text file\n",
      "2018-07-29 11:53:36,323:INFO: Reading Mita%20_Malta%20Cyber%20Security%20Strategy%20-%20Book.pdf from text file\n",
      "2018-07-29 11:53:36,326:INFO: Reading Slovenia_2016_Cyber_Security_Strategy.pdf from text file\n",
      "2018-07-29 11:53:36,329:INFO: Reading SouthAfrica_2010_100219cybersecurity.pdf from text file\n",
      "2018-07-29 11:53:36,332:WARNING: Skipping pdf Brunei_2010_unpan042980.pdf\n",
      "2018-07-29 11:53:36,334:WARNING: Skipping pdf Mauritius_2014_National%20Cyber%20Security%20Strategy%20-%202014%20-%20EN.pdf\n",
      "2018-07-29 11:53:36,338:INFO: Reading Spain_2013_NCSS_ESen.pdf from text file\n",
      "2018-07-29 11:53:36,344:INFO: Reading Canada_2010_cbr-scrt-strtgy-eng.pdf from text file\n",
      "2018-07-29 11:53:36,350:INFO: Reading Micronesia_2012_ict-policy2012.pdf from text file\n",
      "2018-07-29 11:53:36,359:INFO: Reading Sweden_2006_Strategy_Internet_security_2006_12_July_2006.pdf from text file\n",
      "2018-07-29 11:53:36,368:INFO: Reading Chile_NCSP%20%28ENG%29.pdf from text file\n",
      "2018-07-29 11:53:36,378:INFO: Reading Moldova_2013_strateg_857_en.pdf from text file\n",
      "2018-07-29 11:53:36,381:INFO: Reading Switzerland_2012_National_strategy_for_the_protection_of_Switzerland_against_cyber_risks-EN.pdf from text file\n",
      "2018-07-29 11:53:36,384:INFO: Reading China_2006.pdf from text file\n",
      "2018-07-29 11:53:36,390:INFO: Reading Montenegro_2013_Cyber%20Security%20Strategy%20for%20Montenegro.pdf from text file\n",
      "2018-07-29 11:53:36,394:INFO: Reading TrinidadTobago_2012_National_Cyber_Security%20Strategy_Final.pdf from text file\n",
      "2018-07-29 11:53:36,397:INFO: Reading Colombia_2011_articles-3510_documento.pdf from text file\n",
      "2018-07-29 11:53:36,400:INFO: Reading Morocco_2013_Maroc_CyberSecurity_2013_ENG.pdf from text file\n",
      "2018-07-29 11:53:36,405:INFO: Reading Croatia%20CR%20NCSS%20EN.pdf from text file\n",
      "2018-07-29 11:53:36,409:INFO: Reading Netherlands_2013_national-cyber-security-strategy-2_tcm92-520278.pdf from text file\n",
      "2018-07-29 11:53:36,418:INFO: Reading Netherlands_2012_NDL-Cyber_StrategyEng.pdf from text file\n",
      "2018-07-29 11:53:36,422:INFO: Reading Uganda_2014_National%20Information%20Security%20Policy%20v1.0_0.pdf from text file\n",
      "2018-07-29 11:53:36,425:INFO: Reading Cyprus_2012_CY%20NCSS.pdf from text file\n",
      "2018-07-29 11:53:36,429:INFO: Reading NewZealand_2011_nz-cyber-security-strategy-june-2011_0.pdf from text file\n",
      "2018-07-29 11:53:36,432:INFO: Reading nz-cyber-security-action-plan-december-2015.pdf from text file\n",
      "2018-07-29 11:53:36,435:INFO: Reading nz-cyber-security-cybercrime-plan-december-2015.pdf from text file\n",
      "2018-07-29 11:53:36,440:INFO: Reading nz-cyber-security-strategy-december-2015.pdf from text file\n",
      "2018-07-29 11:53:36,445:INFO: Reading nz-cyber-security-summary-december-2015.pdf from text file\n",
      "2018-07-29 11:53:36,448:INFO: Reading UK_2011_uk-cyber-security-strategy-final.pdf from text file\n",
      "2018-07-29 11:53:36,451:INFO: Reading national_cyber_security_strategy.pdf from text file\n",
      "2018-07-29 11:53:36,455:INFO: Reading Czech_2012_20120209strategieprooblastkbnbuen.pdf from text file\n",
      "2018-07-29 11:53:36,457:INFO: Reading National%20Cyber%20Security%20Strategy%20-%20Czech%20Republic.pdf from text file\n",
      "2018-07-29 11:53:36,461:INFO: Reading Nigeria_2014_NATIONAL_CYBESECURITY_STRATEGY.pdf from text file\n",
      "2018-07-29 11:53:36,465:INFO: Reading UnitedStates_2003_cyberspace_strategy.pdf from text file\n",
      "2018-07-29 11:53:36,468:WARNING: Skipping pdf UnitedStates_2009_Cyberspace_Policy_Review_final_0.pdf\n",
      "2018-07-29 11:53:36,471:INFO: Reading UnitedStates_2015_Final_2015_DoD_CYBER_STRATEGY_for_web.pdf from text file\n",
      "2018-07-29 11:53:36,475:INFO: Reading Denmark_2015_DK_NCSS.pdf from text file\n",
      "2018-07-29 11:53:36,481:INFO: Reading Danish_NCSS.pdf from text file\n",
      "2018-07-29 11:53:36,487:INFO: Reading Norway_2012_Cyber_Security_Strategy_Norway.pdf from text file\n",
      "2018-07-29 11:53:36,489:INFO: Reading Egypt_2012.pdf from text file\n",
      "2018-07-29 11:53:36,493:INFO: Reading Estonia_2014_cyber_security_strategy_2014-2017_public_version.pdf from text file\n",
      "2018-07-29 11:53:36,496:INFO: Reading Philippine_2005_National%20Cyber%20Security%20Plan%202005.pdf from text file\n",
      "2018-07-29 11:53:36,498:INFO: Reading Finland_2013_s_Cyber_Security_Strategy.pdf from text file\n",
      "2018-07-29 11:53:36,502:INFO: Reading Poland_2013_copy_of_PO_NCSS.pdf from text file\n",
      "2018-07-29 11:53:36,506:INFO: Reading France_2011_2011-02-15_Information_system_defence_and_security_-_France_s_strategy.pdf from text file\n",
      "2018-07-29 11:53:36,510:INFO: Reading NCSS_FRANCE.pdf from text file\n",
      "2018-07-29 11:53:36,513:INFO: Reading Portuguese_National_Cyberspace_Security_Strategy_EN.pdf from text file\n",
      "2018-07-29 11:53:36,516:INFO: Reading Georgia_2012_National%20Cyber%20Security%20Strategy%20of%20Georgia_ENG.pdf from text file\n",
      "2018-07-29 11:53:36,519:INFO: Reading Qatar_2014_national_cyber_security_strategy.pdf from text file\n",
      "2018-07-29 11:53:36,521:INFO: Reading Germany_2011_Cyber_Security_Strategy_for_Germany.pdf from text file\n",
      "2018-07-29 11:53:36,525:INFO: Reading Hungary_2013_HU_NCSS.pdf from text file\n",
      "2018-07-29 11:53:36,534:INFO: Reading Iceland_2015_NationalCyberSecuritySummary.pdf from text file\n",
      "2018-07-29 11:53:36,541:INFO: Reading India_2013_National_cyber_security_policy-2013%281%29.pdf from text file\n",
      "2018-07-29 11:53:36,544:INFO: Reading Ireland_2015_NationalCyberSecurityStrategy20152017.pdf from text file\n",
      "2018-07-29 11:53:36,547:INFO: Reading Israel_2011_Advancing%20National%20Cyberspace%20Capabilities.pdf from text file\n",
      "2018-07-29 11:53:36,550:WARNING: Skipping pdf Italy_2013_italian-national-strategic-framework-for-cyberspace-security.pdf\n",
      "2018-07-29 11:53:36,552:INFO: Reading Jamaica_2015_Jamaica%20National%20Cyber%20Security%20Strategy.pdf from text file\n",
      "2018-07-29 11:53:36,557:WARNING: Skipping pdf Japan_2015_cs-strategy-en.pdf\n",
      "2018-07-29 11:53:36,559:INFO: Reading Jordan_2012_NIACSS.pdf from text file\n"
     ]
    }
   ],
   "source": [
    "from cybersecurity_nlp.pipelines.corpus import Corpus\n",
    "# corp = Corpus(from_file_only=False) # Run pdf text extraction, need to do this on the first call!\n",
    "corp = Corpus() # Load docs from text files"
   ]
  },
  {
   "cell_type": "markdown",
   "metadata": {},
   "source": [
    "## Documents and Sentences"
   ]
  },
  {
   "cell_type": "markdown",
   "metadata": {},
   "source": [
    "With the `Corpus` object, you can easily get `Document` objects and `Sentence` objects from those documents. The examples below walk through how you can do this."
   ]
  },
  {
   "cell_type": "code",
   "execution_count": 2,
   "metadata": {},
   "outputs": [],
   "source": [
    "documents = corp.documents()"
   ]
  },
  {
   "cell_type": "code",
   "execution_count": 3,
   "metadata": {},
   "outputs": [
    {
     "data": {
      "text/plain": [
       "<cybersecurity_nlp.pipelines.document.Document at 0x1206b2048>"
      ]
     },
     "execution_count": 3,
     "metadata": {},
     "output_type": "execute_result"
    }
   ],
   "source": [
    "documents[0]"
   ]
  },
  {
   "cell_type": "code",
   "execution_count": 4,
   "metadata": {},
   "outputs": [
    {
     "name": "stdout",
     "output_type": "stream",
     "text": [
      "ID: 1\n",
      "Country: Kenya\n",
      "Year: 2014\n",
      "URL: https://www.itu.int/en/ITU-D/Cybersecurity/Documents/National_Strategies_Repository/Kenya_2014_GOK-national-cybersecurity-strategy.pdf\n"
     ]
    }
   ],
   "source": [
    "print(\"ID:\", documents[0].id())\n",
    "print(\"Country:\", documents[0].country())\n",
    "print(\"Year:\", documents[0].year())\n",
    "print(\"URL:\", documents[0].url())"
   ]
  },
  {
   "cell_type": "code",
   "execution_count": 5,
   "metadata": {},
   "outputs": [],
   "source": [
    "sentences = documents[0].sentences()"
   ]
  },
  {
   "cell_type": "code",
   "execution_count": 6,
   "metadata": {},
   "outputs": [
    {
     "data": {
      "text/plain": [
       "<cybersecurity_nlp.pipelines.sentence.Sentence at 0x1206c0e48>"
      ]
     },
     "execution_count": 6,
     "metadata": {},
     "output_type": "execute_result"
    }
   ],
   "source": [
    "sentences[10]"
   ]
  },
  {
   "cell_type": "code",
   "execution_count": 7,
   "metadata": {},
   "outputs": [
    {
     "name": "stdout",
     "output_type": "stream",
     "text": [
      "The Strategy defines Kenya's cybersecurity vision, key objectives, and ongoing commitment to support national priorities by encouraging ICT growth and aggressively protecting critical information infrastructures.\n"
     ]
    }
   ],
   "source": [
    "print(sentences[10].text())"
   ]
  },
  {
   "cell_type": "code",
   "execution_count": 8,
   "metadata": {},
   "outputs": [
    {
     "name": "stdout",
     "output_type": "stream",
     "text": [
      "False\n"
     ]
    }
   ],
   "source": [
    "print(sentences[10].is_bad())"
   ]
  },
  {
   "cell_type": "code",
   "execution_count": 9,
   "metadata": {},
   "outputs": [
    {
     "data": {
      "text/plain": [
       "[('cyber security strategy', 0.38162230548737924),\n",
       " ('cyber security', 0.10147222501118881),\n",
       " ('australian government', 0.09161004175164054),\n",
       " ('national security', 0.021988220002407053),\n",
       " ('critical infrastructure', 0.016835651290452034),\n",
       " ('information', 0.016792057807714436),\n",
       " ('australian', 0.0160499103577135),\n",
       " ('security', 0.013668806400426194),\n",
       " ('national interest', 0.013567926860251562),\n",
       " ('security policy', 0.012427159465926079),\n",
       " ('government', 0.009959535259817225),\n",
       " ('system', 0.009855367670856669),\n",
       " ('business', 0.009796623306084884),\n",
       " ('cyber', 0.008633985829629013),\n",
       " ('digital economy', 0.008510761354943011),\n",
       " ('security strategy', 0.00849379325432838),\n",
       " ('internet', 0.008203318721244756),\n",
       " ('good practice', 0.007794338508209304),\n",
       " ('threat', 0.007779643561479822),\n",
       " ('private sector', 0.007237800704051011)]"
      ]
     },
     "execution_count": 9,
     "metadata": {},
     "output_type": "execute_result"
    }
   ],
   "source": [
    "documents[3].key_terms()"
   ]
  }
 ],
 "metadata": {
  "kernelspec": {
   "display_name": "Python 3",
   "language": "python",
   "name": "python3"
  },
  "language_info": {
   "codemirror_mode": {
    "name": "ipython",
    "version": 3
   },
   "file_extension": ".py",
   "mimetype": "text/x-python",
   "name": "python",
   "nbconvert_exporter": "python",
   "pygments_lexer": "ipython3",
   "version": "3.6.3"
  }
 },
 "nbformat": 4,
 "nbformat_minor": 2
}
